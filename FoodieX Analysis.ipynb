{
 "cells": [
  {
   "cell_type": "markdown",
   "metadata": {},
   "source": [
    "Situation\n",
    "\n",
    "Where are my foodies at? 😋 \n",
    "\n",
    "In order to make FoodieX the best delivery service in town, the data science team is focusing its efforts on analyzing the data set to provide useful insights into the business. \n",
    "\n",
    "You can find a data set below with restaurant information. The data set contains Restaurant ID, Latitude, Longitude, Cuisines, Average Cost, Minimum Order, Rating, Votes, Reviews, and Cook Time.\n",
    "\n",
    "Your Task\n",
    "\n",
    "Review the data and draw four conclusions you can find from the data set. Some ideas of conclusions could include: trying to identify the trending restaurants with your own scoring algorithm (can be as simple as the best rating or most votes or both!), clustering restaurant locations to figure out the optimized FoodieX pick up zones, estimating cook time based on restaurant info, and demonstrating your findings using a data visualization tool. As an important member of the FoodieX team, you get to come up with your own analysis! So try your best to dig out any useful information out of this data set. The sky's the limit! 🤓"
   ]
  },
  {
   "cell_type": "code",
   "execution_count": 7,
   "metadata": {},
   "outputs": [],
   "source": [
    "import pandas as pd\n",
    "import numpy as np "
   ]
  },
  {
   "cell_type": "code",
   "execution_count": 12,
   "metadata": {},
   "outputs": [
    {
     "name": "stdout",
     "output_type": "stream",
     "text": [
      "  Restaurant   Latitude  Longitude                                Cuisines  \\\n",
      "0    ID_6321  39.262605 -85.837372  Fast Food, Rolls, Burger, Salad, Wraps   \n",
      "1    ID_2882  39.775933 -85.740581                     Ice Cream, Desserts   \n",
      "2    ID_1595  39.253436 -85.123779         Italian, Street Food, Fast Food   \n",
      "3    ID_5929  39.029841 -85.332050          Mughlai, North Indian, Chinese   \n",
      "4    ID_6123  39.882284 -85.517407                         Cafe, Beverages   \n",
      "\n",
      "  Average_Cost Minimum_Order Rating Votes Reviews   Cook_Time  \n",
      "0       $20.00        $50.00    3.5    12       4  30 minutes  \n",
      "1       $10.00        $50.00    3.5    11       4  30 minutes  \n",
      "2       $15.00        $50.00    3.6    99      30  65 minutes  \n",
      "3       $25.00        $99.00    3.7   176      95  30 minutes  \n",
      "4       $20.00        $99.00    3.2   521     235  65 minutes  \n"
     ]
    }
   ],
   "source": [
    "df = pd.read_csv('2020-XTern-DS.csv')  \n",
    "print(df.head())"
   ]
  }
 ],
 "metadata": {
  "kernelspec": {
   "display_name": "Python 3",
   "language": "python",
   "name": "python3"
  },
  "language_info": {
   "codemirror_mode": {
    "name": "ipython",
    "version": 3
   },
   "file_extension": ".py",
   "mimetype": "text/x-python",
   "name": "python",
   "nbconvert_exporter": "python",
   "pygments_lexer": "ipython3",
   "version": "3.6.4"
  }
 },
 "nbformat": 4,
 "nbformat_minor": 2
}
